{
  "nbformat": 4,
  "nbformat_minor": 0,
  "metadata": {
    "colab": {
      "provenance": [],
      "authorship_tag": "ABX9TyPbqslT+Exb0U6SoNIaD3lg",
      "include_colab_link": true
    },
    "kernelspec": {
      "name": "python3",
      "display_name": "Python 3"
    },
    "language_info": {
      "name": "python"
    }
  },
  "cells": [
    {
      "cell_type": "markdown",
      "metadata": {
        "id": "view-in-github",
        "colab_type": "text"
      },
      "source": [
        "<a href=\"https://colab.research.google.com/github/msayeshasiddikatonny/CodingBat_solution_python/blob/main/Warmup_2_%3E_array_front9.ipynb\" target=\"_parent\"><img src=\"https://colab.research.google.com/assets/colab-badge.svg\" alt=\"Open In Colab\"/></a>"
      ]
    },
    {
      "cell_type": "markdown",
      "source": [
        "Given an array of ints, return True if one of the first 4 elements in the array is a 9. The array length may be less than 4.\n",
        "\n",
        "\n",
        "array_front9([1, 2, 9, 3, 4]) → True\\\n",
        "array_front9([1, 2, 3, 4, 9]) → False\\\n",
        "array_front9([1, 2, 3, 4, 5]) → False"
      ],
      "metadata": {
        "id": "hmdRP4mum-ml"
      }
    },
    {
      "cell_type": "code",
      "execution_count": 2,
      "metadata": {
        "colab": {
          "base_uri": "https://localhost:8080/"
        },
        "id": "m_N8bcDQmpyX",
        "outputId": "276df505-1eee-4a33-e01f-ccc5e86ea520"
      },
      "outputs": [
        {
          "output_type": "stream",
          "name": "stdout",
          "text": [
            "True\n",
            "False\n",
            "False\n",
            "True\n",
            "True\n",
            "False\n",
            "True\n",
            "False\n"
          ]
        }
      ],
      "source": [
        "def array_front9(nums):\n",
        "  for i in   range(len(nums)):\n",
        "    if nums[i]==9 and i<4:\n",
        "      return True\n",
        "  return False\n",
        "\n",
        "print(array_front9([1, 2, 9, 3, 4]))\n",
        "print(array_front9([1, 2, 3, 4, 9]))# False\tFalse\tOK\n",
        "print(array_front9([1, 2, 3, 4, 5]) )# False\tFalse\tOK\n",
        "print(array_front9([9, 2, 3])) #True\tTrue\tOK\n",
        "print(array_front9([1, 9, 9])) #True\tTrue\tOK\n",
        "print(array_front9([1, 2, 3]) )#False\tFalse\tOK\n",
        "print(array_front9([1, 9])) #True\tTrue\tOK\n",
        "print(array_front9([5, 5])) # False"
      ]
    }
  ]
}